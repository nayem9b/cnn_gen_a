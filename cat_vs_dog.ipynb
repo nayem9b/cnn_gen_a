{
 "cells": [
  {
   "cell_type": "code",
   "execution_count": 1,
   "metadata": {},
   "outputs": [],
   "source": [
    "import numpy as np\n",
    "import cv2\n",
    "import os\n",
    "import random\n",
    "import matplotlib.pyplot as plt\n",
    "import pickle\n",
    "import pandas"
   ]
  },
  {
   "cell_type": "code",
   "execution_count": 2,
   "metadata": {},
   "outputs": [],
   "source": [
    "DIRECTORY = r'/home/nayems/Documents/dataset/train'\n",
    "CATEGORIES = ['cat','dog']"
   ]
  },
  {
   "cell_type": "code",
   "execution_count": 3,
   "metadata": {},
   "outputs": [
    {
     "name": "stdout",
     "output_type": "stream",
     "text": [
      "/home/nayems/Documents/dataset/train/cat\n",
      "/home/nayems/Documents/dataset/train/dog\n"
     ]
    }
   ],
   "source": [
    "IMG_SIZE=100\n",
    "\n",
    "data =[]\n",
    "\n",
    "for category in CATEGORIES:\n",
    "    folder = os.path.join(DIRECTORY, category)\n",
    "    label= CATEGORIES.index(category)\n",
    "    print(folder)\n",
    "    for img in os.listdir(folder):\n",
    "        img_path= os.path.join(folder,img)\n",
    "        img_array= cv2.imread(img_path)\n",
    "        img_array= cv2.resize(img_array, (IMG_SIZE, IMG_SIZE))\n",
    "        data.append([img_array,label])"
   ]
  },
  {
   "cell_type": "code",
   "execution_count": 4,
   "metadata": {},
   "outputs": [
    {
     "data": {
      "text/plain": [
       "25000"
      ]
     },
     "execution_count": 4,
     "metadata": {},
     "output_type": "execute_result"
    }
   ],
   "source": [
    "len(data)"
   ]
  },
  {
   "cell_type": "code",
   "execution_count": 5,
   "metadata": {},
   "outputs": [],
   "source": [
    "random.shuffle(data)"
   ]
  },
  {
   "cell_type": "code",
   "execution_count": 6,
   "metadata": {},
   "outputs": [
    {
     "data": {
      "text/plain": [
       "[array([[[150, 159, 146],\n",
       "         [154, 161, 148],\n",
       "         [186, 189, 177],\n",
       "         ...,\n",
       "         [213, 217, 212],\n",
       "         [229, 233, 227],\n",
       "         [206, 210, 205]],\n",
       " \n",
       "        [[169, 177, 164],\n",
       "         [156, 160, 148],\n",
       "         [177, 179, 167],\n",
       "         ...,\n",
       "         [220, 224, 218],\n",
       "         [219, 223, 217],\n",
       "         [200, 204, 198]],\n",
       " \n",
       "        [[177, 183, 167],\n",
       "         [152, 155, 140],\n",
       "         [165, 165, 150],\n",
       "         ...,\n",
       "         [209, 214, 205],\n",
       "         [195, 200, 191],\n",
       "         [183, 188, 179]],\n",
       " \n",
       "        ...,\n",
       " \n",
       "        [[243, 243, 243],\n",
       "         [246, 246, 246],\n",
       "         [235, 235, 235],\n",
       "         ...,\n",
       "         [232, 233, 231],\n",
       "         [224, 225, 223],\n",
       "         [230, 230, 229]],\n",
       " \n",
       "        [[246, 246, 246],\n",
       "         [245, 245, 245],\n",
       "         [237, 237, 237],\n",
       "         ...,\n",
       "         [230, 231, 229],\n",
       "         [229, 230, 228],\n",
       "         [236, 237, 235]],\n",
       " \n",
       "        [[248, 248, 248],\n",
       "         [240, 240, 240],\n",
       "         [247, 247, 247],\n",
       "         ...,\n",
       "         [236, 237, 235],\n",
       "         [231, 232, 231],\n",
       "         [239, 240, 238]]], dtype=uint8),\n",
       " 0]"
      ]
     },
     "execution_count": 6,
     "metadata": {},
     "output_type": "execute_result"
    }
   ],
   "source": [
    "data[0]"
   ]
  },
  {
   "cell_type": "code",
   "execution_count": 7,
   "metadata": {},
   "outputs": [],
   "source": [
    "X = []\n",
    "y = []\n",
    "\n",
    "for features , labels in data :\n",
    "    X.append(features)\n",
    "    y.append(labels)"
   ]
  },
  {
   "cell_type": "code",
   "execution_count": 8,
   "metadata": {},
   "outputs": [],
   "source": [
    "X = np.array(X)\n",
    "y = np.array(y)"
   ]
  },
  {
   "cell_type": "code",
   "execution_count": 9,
   "metadata": {},
   "outputs": [
    {
     "data": {
      "text/plain": [
       "(25000, 100, 100, 3)"
      ]
     },
     "execution_count": 9,
     "metadata": {},
     "output_type": "execute_result"
    }
   ],
   "source": [
    "X.shape"
   ]
  },
  {
   "cell_type": "code",
   "execution_count": 10,
   "metadata": {},
   "outputs": [
    {
     "data": {
      "text/plain": [
       "(25000,)"
      ]
     },
     "execution_count": 10,
     "metadata": {},
     "output_type": "execute_result"
    }
   ],
   "source": [
    "y.shape"
   ]
  },
  {
   "cell_type": "code",
   "execution_count": null,
   "metadata": {},
   "outputs": [],
   "source": [
    "X=X/255"
   ]
  },
  {
   "cell_type": "code",
   "execution_count": null,
   "metadata": {},
   "outputs": [],
   "source": [
    "from tensorflow import keras\n",
    "from keras import Sequential\n",
    "from keras.layers import Conv2D,MaxPooling2D,Dense,Flatten"
   ]
  },
  {
   "cell_type": "code",
   "execution_count": null,
   "metadata": {},
   "outputs": [],
   "source": [
    "model = Sequential()\n",
    "\n",
    "model.add(Conv2D(64,(3,3),activation='relu',input_shape=X.shape[1:]))\n",
    "model.add(MaxPooling2D(2,2))\n",
    "\n",
    "model = Sequential()\n",
    "\n",
    "model.add(Conv2D(64,(3,3),activation='relu'))\n",
    "model.add(MaxPooling2D(2,2))\n",
    "\n",
    "model.add(Conv2D(64,(3,3),activation='relu'))\n",
    "model.add(MaxPooling2D(2,2))\n",
    "\n",
    "model.add(Flatten())\n",
    "\n",
    "model.add(Dense(128,activation='relu'))\n",
    "model.add(Dense(128,activation='relu'))\n",
    "model.add(Dense(128,activation='sigmoid'))"
   ]
  },
  {
   "cell_type": "code",
   "execution_count": null,
   "metadata": {},
   "outputs": [],
   "source": [
    "model.summary()"
   ]
  },
  {
   "cell_type": "code",
   "execution_count": null,
   "metadata": {},
   "outputs": [],
   "source": [
    "model.compile(optimizer='Adam',loss='binary_crossentropy',metrics=['accuracy'])"
   ]
  },
  {
   "cell_type": "code",
   "execution_count": null,
   "metadata": {},
   "outputs": [],
   "source": [
    "model.fit(X,y,epochs=3,validation_split=0.1)"
   ]
  }
 ],
 "metadata": {
  "kernelspec": {
   "display_name": "Python 3 (ipykernel)",
   "language": "python",
   "name": "python3"
  },
  "language_info": {
   "codemirror_mode": {
    "name": "ipython",
    "version": 3
   },
   "file_extension": ".py",
   "mimetype": "text/x-python",
   "name": "python",
   "nbconvert_exporter": "python",
   "pygments_lexer": "ipython3",
   "version": "3.12.4"
  }
 },
 "nbformat": 4,
 "nbformat_minor": 4
}
