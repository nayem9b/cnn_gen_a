import numpy as np
import cv2
import os
import random
import matplotlib.pyplot as plt
import pickle
import pandas


DIRECTORY = r'/home/nayems/Documents/dataset/train'
CATEGORIES = ['cat','dog']


IMG_SIZE=100

data =[]

for category in CATEGORIES:
    folder = os.path.join(DIRECTORY, category)
    label= CATEGORIES.index(category)
    print(folder)
    for img in os.listdir(folder):
        img_path= os.path.join(folder,img)
        img_array= cv2.imread(img_path)
        img_array= cv2.resize(img_array, (IMG_SIZE, IMG_SIZE))
        data.append([img_array,label])


len(data)


random.shuffle(data)


data[0]


X = []
y = []

for features , labels in data :
    X.append(features)
    y.append(labels)


X = np.array(X)
y = np.array(y)


X.shape


y.shape


X=X/255


from tensorflow import keras
from keras import Sequential
from keras.layers import Conv2D,MaxPooling2D,Dense,Flatten


model = Sequential()

model.add(Conv2D(64,(3,3),activation='relu',input_shape=X.shape[1:]))
model.add(MaxPooling2D(2,2))

model = Sequential()

model.add(Conv2D(64,(3,3),activation='relu'))
model.add(MaxPooling2D(2,2))

model.add(Conv2D(64,(3,3),activation='relu'))
model.add(MaxPooling2D(2,2))

model.add(Flatten())

model.add(Dense(128,activation='relu'))
model.add(Dense(128,activation='relu'))
model.add(Dense(128,activation='sigmoid'))


model.summary()


model.compile(optimizer='Adam',loss='binary_crossentropy',metrics=['accuracy'])


model.fit(X,y,epochs=10,validation_split=0.1)
